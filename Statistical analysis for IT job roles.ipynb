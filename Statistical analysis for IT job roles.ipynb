{
 "cells": [
  {
   "cell_type": "markdown",
   "id": "4cc11253-fedf-4da2-abf7-9aa33746c9f7",
   "metadata": {},
   "source": [
    "## Import Packages"
   ]
  },
  {
   "cell_type": "markdown",
   "id": "e849efc9-425a-4e4e-a279-7eb52afd6939",
   "metadata": {},
   "source": [
    "  Importing pandas for data manipulation, \n",
    "  Importing numpy for numerical computations,\n",
    "  Importing matplotlib for plotting,\n",
    "  Importing seaborn for statistical data visualization,\n",
    "  Importing plotly express for interactive plotting,"
   ]
  },
  {
   "cell_type": "code",
   "execution_count": 55,
   "id": "ee81c392-0ee7-494f-81f4-f75dc2c88650",
   "metadata": {},
   "outputs": [],
   "source": [
    "import pandas as pd\n",
    "import numpy as np\n",
    "import matplotlib.pyplot as ply \n",
    "import seaborn as sns\n",
    "import scipy as sns\n",
    "import matplotlib.pyplot as plt\n",
    "import seaborn as sns"
   ]
  },
  {
   "cell_type": "markdown",
   "id": "a597d2ee-103f-46a7-b713-e50479d712d1",
   "metadata": {},
   "source": [
    "## Read csv file to get data"
   ]
  },
  {
   "cell_type": "code",
   "execution_count": 56,
   "id": "3473a6ae-7e93-439c-a18e-c5a65403d113",
   "metadata": {},
   "outputs": [],
   "source": [
    "job=pd.read_csv(\"job_data.csv\")"
   ]
  },
  {
   "cell_type": "raw",
   "id": "70ff4280-12c2-4b62-982d-1ad651a8f394",
   "metadata": {},
   "source": [
    "Use head() to get top 5 values(to get infomation in the table or the dataset )"
   ]
  },
  {
   "cell_type": "code",
   "execution_count": 57,
   "id": "4301eb9b-0ebf-4b5d-a35f-99ef71b1df3d",
   "metadata": {},
   "outputs": [
    {
     "data": {
      "text/html": [
       "<div>\n",
       "<style scoped>\n",
       "    .dataframe tbody tr th:only-of-type {\n",
       "        vertical-align: middle;\n",
       "    }\n",
       "\n",
       "    .dataframe tbody tr th {\n",
       "        vertical-align: top;\n",
       "    }\n",
       "\n",
       "    .dataframe thead th {\n",
       "        text-align: right;\n",
       "    }\n",
       "</style>\n",
       "<table border=\"1\" class=\"dataframe\">\n",
       "  <thead>\n",
       "    <tr style=\"text-align: right;\">\n",
       "      <th></th>\n",
       "      <th>work_year</th>\n",
       "      <th>job_title</th>\n",
       "      <th>job_category</th>\n",
       "      <th>salary_currency</th>\n",
       "      <th>salary</th>\n",
       "      <th>salary_in_usd</th>\n",
       "      <th>employee_residence</th>\n",
       "      <th>experience_level</th>\n",
       "      <th>employment_type</th>\n",
       "      <th>work_setting</th>\n",
       "      <th>company_location</th>\n",
       "      <th>company_size</th>\n",
       "    </tr>\n",
       "  </thead>\n",
       "  <tbody>\n",
       "    <tr>\n",
       "      <th>0</th>\n",
       "      <td>2023</td>\n",
       "      <td>Data DevOps Engineer</td>\n",
       "      <td>Data Engineering</td>\n",
       "      <td>EUR</td>\n",
       "      <td>88000</td>\n",
       "      <td>95012</td>\n",
       "      <td>Germany</td>\n",
       "      <td>Mid-level</td>\n",
       "      <td>Full-time</td>\n",
       "      <td>Hybrid</td>\n",
       "      <td>Germany</td>\n",
       "      <td>L</td>\n",
       "    </tr>\n",
       "    <tr>\n",
       "      <th>1</th>\n",
       "      <td>2023</td>\n",
       "      <td>Data Architect</td>\n",
       "      <td>Data Architecture and Modeling</td>\n",
       "      <td>USD</td>\n",
       "      <td>186000</td>\n",
       "      <td>186000</td>\n",
       "      <td>United States</td>\n",
       "      <td>Senior</td>\n",
       "      <td>Full-time</td>\n",
       "      <td>In-person</td>\n",
       "      <td>United States</td>\n",
       "      <td>M</td>\n",
       "    </tr>\n",
       "    <tr>\n",
       "      <th>2</th>\n",
       "      <td>2023</td>\n",
       "      <td>Data Architect</td>\n",
       "      <td>Data Architecture and Modeling</td>\n",
       "      <td>USD</td>\n",
       "      <td>81800</td>\n",
       "      <td>81800</td>\n",
       "      <td>United States</td>\n",
       "      <td>Senior</td>\n",
       "      <td>Full-time</td>\n",
       "      <td>In-person</td>\n",
       "      <td>United States</td>\n",
       "      <td>M</td>\n",
       "    </tr>\n",
       "    <tr>\n",
       "      <th>3</th>\n",
       "      <td>2023</td>\n",
       "      <td>Data Scientist</td>\n",
       "      <td>Data Science and Research</td>\n",
       "      <td>USD</td>\n",
       "      <td>212000</td>\n",
       "      <td>212000</td>\n",
       "      <td>United States</td>\n",
       "      <td>Senior</td>\n",
       "      <td>Full-time</td>\n",
       "      <td>In-person</td>\n",
       "      <td>United States</td>\n",
       "      <td>M</td>\n",
       "    </tr>\n",
       "    <tr>\n",
       "      <th>4</th>\n",
       "      <td>2023</td>\n",
       "      <td>Data Scientist</td>\n",
       "      <td>Data Science and Research</td>\n",
       "      <td>USD</td>\n",
       "      <td>93300</td>\n",
       "      <td>93300</td>\n",
       "      <td>United States</td>\n",
       "      <td>Senior</td>\n",
       "      <td>Full-time</td>\n",
       "      <td>In-person</td>\n",
       "      <td>United States</td>\n",
       "      <td>M</td>\n",
       "    </tr>\n",
       "  </tbody>\n",
       "</table>\n",
       "</div>"
      ],
      "text/plain": [
       "   work_year             job_title                    job_category  \\\n",
       "0       2023  Data DevOps Engineer                Data Engineering   \n",
       "1       2023        Data Architect  Data Architecture and Modeling   \n",
       "2       2023        Data Architect  Data Architecture and Modeling   \n",
       "3       2023        Data Scientist       Data Science and Research   \n",
       "4       2023        Data Scientist       Data Science and Research   \n",
       "\n",
       "  salary_currency  salary  salary_in_usd employee_residence experience_level  \\\n",
       "0             EUR   88000          95012            Germany        Mid-level   \n",
       "1             USD  186000         186000      United States           Senior   \n",
       "2             USD   81800          81800      United States           Senior   \n",
       "3             USD  212000         212000      United States           Senior   \n",
       "4             USD   93300          93300      United States           Senior   \n",
       "\n",
       "  employment_type work_setting company_location company_size  \n",
       "0       Full-time       Hybrid          Germany            L  \n",
       "1       Full-time    In-person    United States            M  \n",
       "2       Full-time    In-person    United States            M  \n",
       "3       Full-time    In-person    United States            M  \n",
       "4       Full-time    In-person    United States            M  "
      ]
     },
     "execution_count": 57,
     "metadata": {},
     "output_type": "execute_result"
    }
   ],
   "source": [
    "job.head(5)"
   ]
  },
  {
   "cell_type": "markdown",
   "id": "561a94a9-57fc-4d5f-afd3-7dc1d9811e90",
   "metadata": {},
   "source": [
    "## tail()"
   ]
  },
  {
   "cell_type": "markdown",
   "id": "c7418c1c-8155-4579-b7b8-35357e528c6c",
   "metadata": {},
   "source": [
    "Use tail() to get Last 5 values"
   ]
  },
  {
   "cell_type": "code",
   "execution_count": 58,
   "id": "50472b76-5d93-4446-aeb1-09a679be902f",
   "metadata": {},
   "outputs": [
    {
     "data": {
      "text/html": [
       "<div>\n",
       "<style scoped>\n",
       "    .dataframe tbody tr th:only-of-type {\n",
       "        vertical-align: middle;\n",
       "    }\n",
       "\n",
       "    .dataframe tbody tr th {\n",
       "        vertical-align: top;\n",
       "    }\n",
       "\n",
       "    .dataframe thead th {\n",
       "        text-align: right;\n",
       "    }\n",
       "</style>\n",
       "<table border=\"1\" class=\"dataframe\">\n",
       "  <thead>\n",
       "    <tr style=\"text-align: right;\">\n",
       "      <th></th>\n",
       "      <th>work_year</th>\n",
       "      <th>job_title</th>\n",
       "      <th>job_category</th>\n",
       "      <th>salary_currency</th>\n",
       "      <th>salary</th>\n",
       "      <th>salary_in_usd</th>\n",
       "      <th>employee_residence</th>\n",
       "      <th>experience_level</th>\n",
       "      <th>employment_type</th>\n",
       "      <th>work_setting</th>\n",
       "      <th>company_location</th>\n",
       "      <th>company_size</th>\n",
       "    </tr>\n",
       "  </thead>\n",
       "  <tbody>\n",
       "    <tr>\n",
       "      <th>9350</th>\n",
       "      <td>2021</td>\n",
       "      <td>Data Specialist</td>\n",
       "      <td>Data Management and Strategy</td>\n",
       "      <td>USD</td>\n",
       "      <td>165000</td>\n",
       "      <td>165000</td>\n",
       "      <td>United States</td>\n",
       "      <td>Senior</td>\n",
       "      <td>Full-time</td>\n",
       "      <td>Remote</td>\n",
       "      <td>United States</td>\n",
       "      <td>L</td>\n",
       "    </tr>\n",
       "    <tr>\n",
       "      <th>9351</th>\n",
       "      <td>2020</td>\n",
       "      <td>Data Scientist</td>\n",
       "      <td>Data Science and Research</td>\n",
       "      <td>USD</td>\n",
       "      <td>412000</td>\n",
       "      <td>412000</td>\n",
       "      <td>United States</td>\n",
       "      <td>Senior</td>\n",
       "      <td>Full-time</td>\n",
       "      <td>Remote</td>\n",
       "      <td>United States</td>\n",
       "      <td>L</td>\n",
       "    </tr>\n",
       "    <tr>\n",
       "      <th>9352</th>\n",
       "      <td>2021</td>\n",
       "      <td>Principal Data Scientist</td>\n",
       "      <td>Data Science and Research</td>\n",
       "      <td>USD</td>\n",
       "      <td>151000</td>\n",
       "      <td>151000</td>\n",
       "      <td>United States</td>\n",
       "      <td>Mid-level</td>\n",
       "      <td>Full-time</td>\n",
       "      <td>Remote</td>\n",
       "      <td>United States</td>\n",
       "      <td>L</td>\n",
       "    </tr>\n",
       "    <tr>\n",
       "      <th>9353</th>\n",
       "      <td>2020</td>\n",
       "      <td>Data Scientist</td>\n",
       "      <td>Data Science and Research</td>\n",
       "      <td>USD</td>\n",
       "      <td>105000</td>\n",
       "      <td>105000</td>\n",
       "      <td>United States</td>\n",
       "      <td>Entry-level</td>\n",
       "      <td>Full-time</td>\n",
       "      <td>Remote</td>\n",
       "      <td>United States</td>\n",
       "      <td>S</td>\n",
       "    </tr>\n",
       "    <tr>\n",
       "      <th>9354</th>\n",
       "      <td>2020</td>\n",
       "      <td>Business Data Analyst</td>\n",
       "      <td>Data Analysis</td>\n",
       "      <td>USD</td>\n",
       "      <td>100000</td>\n",
       "      <td>100000</td>\n",
       "      <td>United States</td>\n",
       "      <td>Entry-level</td>\n",
       "      <td>Contract</td>\n",
       "      <td>Remote</td>\n",
       "      <td>United States</td>\n",
       "      <td>L</td>\n",
       "    </tr>\n",
       "  </tbody>\n",
       "</table>\n",
       "</div>"
      ],
      "text/plain": [
       "      work_year                 job_title                  job_category  \\\n",
       "9350       2021           Data Specialist  Data Management and Strategy   \n",
       "9351       2020            Data Scientist     Data Science and Research   \n",
       "9352       2021  Principal Data Scientist     Data Science and Research   \n",
       "9353       2020            Data Scientist     Data Science and Research   \n",
       "9354       2020     Business Data Analyst                 Data Analysis   \n",
       "\n",
       "     salary_currency  salary  salary_in_usd employee_residence  \\\n",
       "9350             USD  165000         165000      United States   \n",
       "9351             USD  412000         412000      United States   \n",
       "9352             USD  151000         151000      United States   \n",
       "9353             USD  105000         105000      United States   \n",
       "9354             USD  100000         100000      United States   \n",
       "\n",
       "     experience_level employment_type work_setting company_location  \\\n",
       "9350           Senior       Full-time       Remote    United States   \n",
       "9351           Senior       Full-time       Remote    United States   \n",
       "9352        Mid-level       Full-time       Remote    United States   \n",
       "9353      Entry-level       Full-time       Remote    United States   \n",
       "9354      Entry-level        Contract       Remote    United States   \n",
       "\n",
       "     company_size  \n",
       "9350            L  \n",
       "9351            L  \n",
       "9352            L  \n",
       "9353            S  \n",
       "9354            L  "
      ]
     },
     "execution_count": 58,
     "metadata": {},
     "output_type": "execute_result"
    }
   ],
   "source": [
    "job.tail()"
   ]
  },
  {
   "cell_type": "markdown",
   "id": "0ff698f0-e510-4e04-8ac9-0e651a94895b",
   "metadata": {},
   "source": [
    "## Shape()"
   ]
  },
  {
   "cell_type": "markdown",
   "id": "c2d53b45-158e-49bc-bfab-1c0b7e5ece16",
   "metadata": {},
   "source": [
    "Shape() To retrieve the shape of the DataFrame"
   ]
  },
  {
   "cell_type": "code",
   "execution_count": 59,
   "id": "fc2a893b-e2bf-4da1-8f19-f683b5df5386",
   "metadata": {},
   "outputs": [
    {
     "data": {
      "text/plain": [
       "(9355, 12)"
      ]
     },
     "execution_count": 59,
     "metadata": {},
     "output_type": "execute_result"
    }
   ],
   "source": [
    "job.shape"
   ]
  },
  {
   "cell_type": "markdown",
   "id": "972e3654-61af-4de6-9ac3-74a65723a31a",
   "metadata": {},
   "source": [
    "## info()"
   ]
  },
  {
   "cell_type": "markdown",
   "id": "a0cd2725-d4dd-4d0c-9cc7-bf9eff81655c",
   "metadata": {},
   "source": [
    "The info() method in pandas provides a concise summary of a DataFrame,\n",
    "including the data types of each column, \n",
    "the number of non-null values, and memory usage. "
   ]
  },
  {
   "cell_type": "code",
   "execution_count": 60,
   "id": "366eb5c0-9f30-44fc-90a3-2895a8468278",
   "metadata": {},
   "outputs": [
    {
     "name": "stdout",
     "output_type": "stream",
     "text": [
      "<class 'pandas.core.frame.DataFrame'>\n",
      "RangeIndex: 9355 entries, 0 to 9354\n",
      "Data columns (total 12 columns):\n",
      " #   Column              Non-Null Count  Dtype \n",
      "---  ------              --------------  ----- \n",
      " 0   work_year           9355 non-null   int64 \n",
      " 1   job_title           9355 non-null   object\n",
      " 2   job_category        9355 non-null   object\n",
      " 3   salary_currency     9355 non-null   object\n",
      " 4   salary              9355 non-null   int64 \n",
      " 5   salary_in_usd       9355 non-null   int64 \n",
      " 6   employee_residence  9355 non-null   object\n",
      " 7   experience_level    9355 non-null   object\n",
      " 8   employment_type     9355 non-null   object\n",
      " 9   work_setting        9355 non-null   object\n",
      " 10  company_location    9355 non-null   object\n",
      " 11  company_size        9355 non-null   object\n",
      "dtypes: int64(3), object(9)\n",
      "memory usage: 877.2+ KB\n"
     ]
    }
   ],
   "source": [
    "job.info()"
   ]
  },
  {
   "cell_type": "markdown",
   "id": "2eea4398-e2f8-4e0a-aef6-059e572abc48",
   "metadata": {},
   "source": [
    "## describe()"
   ]
  },
  {
   "cell_type": "raw",
   "id": "c026bd27-497c-47a8-a59f-e8f219f42a74",
   "metadata": {},
   "source": [
    "The describe() function in pandas is a powerful tool \n",
    "for quickly generating descriptive statistics \n",
    "that summarize the central tendency, dispersion,\n",
    "and shape of a dataset's distribution.\n",
    "     1. Count: The number of non-null values in each column.\n",
    "     2. Mean: The arithmetic mean or average of the values in each column.\n",
    "     3. Standard Deviation: A measure of the amount of variation or dispersion in          a set of values. It quantifies the amount of variation or dispersion of a          set of values.\n",
    "     4. Minimum: The smallest value in each column.\n",
    "     5. 25th Percentile (Q1): Also known as the first quartile, it is the value            below which 25% of the data falls.\n",
    "     6. Median (50th Percentile or Q2): The middle value of the dataset. It                separates the higher half from the lower half of the data.\n",
    "     7. 75th Percentile (Q3): Also known as the third quartile, it is the value            below which 75% of the data falls.\n",
    "     8. Maximum: The largest value in each column."
   ]
  },
  {
   "cell_type": "code",
   "execution_count": 61,
   "id": "f4d76006-6d1a-4e4c-9823-55fb83169d14",
   "metadata": {},
   "outputs": [
    {
     "data": {
      "text/html": [
       "<div>\n",
       "<style scoped>\n",
       "    .dataframe tbody tr th:only-of-type {\n",
       "        vertical-align: middle;\n",
       "    }\n",
       "\n",
       "    .dataframe tbody tr th {\n",
       "        vertical-align: top;\n",
       "    }\n",
       "\n",
       "    .dataframe thead th {\n",
       "        text-align: right;\n",
       "    }\n",
       "</style>\n",
       "<table border=\"1\" class=\"dataframe\">\n",
       "  <thead>\n",
       "    <tr style=\"text-align: right;\">\n",
       "      <th></th>\n",
       "      <th>salary</th>\n",
       "      <th>salary_in_usd</th>\n",
       "    </tr>\n",
       "  </thead>\n",
       "  <tbody>\n",
       "    <tr>\n",
       "      <th>count</th>\n",
       "      <td>9355.000000</td>\n",
       "      <td>9355.000000</td>\n",
       "    </tr>\n",
       "    <tr>\n",
       "      <th>mean</th>\n",
       "      <td>149927.981293</td>\n",
       "      <td>150299.495564</td>\n",
       "    </tr>\n",
       "    <tr>\n",
       "      <th>std</th>\n",
       "      <td>63608.835387</td>\n",
       "      <td>63177.372024</td>\n",
       "    </tr>\n",
       "    <tr>\n",
       "      <th>min</th>\n",
       "      <td>14000.000000</td>\n",
       "      <td>15000.000000</td>\n",
       "    </tr>\n",
       "    <tr>\n",
       "      <th>25%</th>\n",
       "      <td>105200.000000</td>\n",
       "      <td>105700.000000</td>\n",
       "    </tr>\n",
       "    <tr>\n",
       "      <th>50%</th>\n",
       "      <td>143860.000000</td>\n",
       "      <td>143000.000000</td>\n",
       "    </tr>\n",
       "    <tr>\n",
       "      <th>75%</th>\n",
       "      <td>187000.000000</td>\n",
       "      <td>186723.000000</td>\n",
       "    </tr>\n",
       "    <tr>\n",
       "      <th>max</th>\n",
       "      <td>450000.000000</td>\n",
       "      <td>450000.000000</td>\n",
       "    </tr>\n",
       "  </tbody>\n",
       "</table>\n",
       "</div>"
      ],
      "text/plain": [
       "              salary  salary_in_usd\n",
       "count    9355.000000    9355.000000\n",
       "mean   149927.981293  150299.495564\n",
       "std     63608.835387   63177.372024\n",
       "min     14000.000000   15000.000000\n",
       "25%    105200.000000  105700.000000\n",
       "50%    143860.000000  143000.000000\n",
       "75%    187000.000000  186723.000000\n",
       "max    450000.000000  450000.000000"
      ]
     },
     "execution_count": 61,
     "metadata": {},
     "output_type": "execute_result"
    }
   ],
   "source": [
    "job[['salary','salary_in_usd']].describe()"
   ]
  },
  {
   "cell_type": "markdown",
   "id": "5d6dbf80-fd62-4b43-a94f-d881c3a935e8",
   "metadata": {},
   "source": [
    "## index()"
   ]
  },
  {
   "cell_type": "markdown",
   "id": "4fa3d57d-7f3c-49af-9a18-6bca93690896",
   "metadata": {},
   "source": [
    "index() is a list of labels for each row in the DataFrame "
   ]
  },
  {
   "cell_type": "code",
   "execution_count": 62,
   "id": "45c4a513-b410-4166-a517-03b364e44f99",
   "metadata": {},
   "outputs": [
    {
     "data": {
      "text/plain": [
       "RangeIndex(start=0, stop=9355, step=1)"
      ]
     },
     "execution_count": 62,
     "metadata": {},
     "output_type": "execute_result"
    }
   ],
   "source": [
    "job.index"
   ]
  },
  {
   "cell_type": "markdown",
   "id": "2450e35a-663f-43f6-bbdd-3e52a884fab2",
   "metadata": {},
   "source": [
    "## columns()"
   ]
  },
  {
   "cell_type": "markdown",
   "id": "f023144a-7614-46dc-914e-7cd5932b9ec8",
   "metadata": {},
   "source": [
    "columns() is like a list of all the labels for the different \n",
    "types of information (columns) in your DataFrame."
   ]
  },
  {
   "cell_type": "code",
   "execution_count": 63,
   "id": "d67fb065-3b62-4822-8b1e-a9904af728ee",
   "metadata": {},
   "outputs": [
    {
     "data": {
      "text/plain": [
       "Index(['work_year', 'job_title', 'job_category', 'salary_currency', 'salary',\n",
       "       'salary_in_usd', 'employee_residence', 'experience_level',\n",
       "       'employment_type', 'work_setting', 'company_location', 'company_size'],\n",
       "      dtype='object')"
      ]
     },
     "execution_count": 63,
     "metadata": {},
     "output_type": "execute_result"
    }
   ],
   "source": [
    "job.columns"
   ]
  },
  {
   "cell_type": "markdown",
   "id": "95396ecd-0bee-4ee8-aefa-ddfecc8eb323",
   "metadata": {},
   "source": [
    "## Unique"
   ]
  },
  {
   "cell_type": "markdown",
   "id": "e7ce9fd5-a125-47cd-af34-e494ce0fd773",
   "metadata": {},
   "source": [
    "The unique() method is used in pandas to get the unique values\n",
    "in a pandas object like Series or DataFrame"
   ]
  },
  {
   "cell_type": "code",
   "execution_count": 64,
   "id": "b16c4d2c-8fa8-4b39-9b9d-8321f69184b7",
   "metadata": {},
   "outputs": [
    {
     "data": {
      "text/plain": [
       "array([ 88000, 186000,  81800, ..., 138350, 423000, 412000], dtype=int64)"
      ]
     },
     "execution_count": 64,
     "metadata": {},
     "output_type": "execute_result"
    }
   ],
   "source": [
    "job['salary'].unique()"
   ]
  },
  {
   "cell_type": "code",
   "execution_count": 65,
   "id": "08797d1f-3385-472c-ac5b-fe1c358128c1",
   "metadata": {},
   "outputs": [
    {
     "data": {
      "text/plain": [
       "array([ 95012, 186000,  81800, ..., 423000,  28369, 412000], dtype=int64)"
      ]
     },
     "execution_count": 65,
     "metadata": {},
     "output_type": "execute_result"
    }
   ],
   "source": [
    "job['salary_in_usd'].unique()"
   ]
  },
  {
   "cell_type": "markdown",
   "id": "635bdd43-13b5-427e-b3db-9acebb6b0fe8",
   "metadata": {},
   "source": [
    "## nunique"
   ]
  },
  {
   "cell_type": "markdown",
   "id": "cb4bfbd2-ca35-42ad-b6ed-394989898422",
   "metadata": {},
   "source": [
    "The nunique() method in pandas is used to count the number of unique elements in \n",
    "a pandas object like Series or DataFrame. "
   ]
  },
  {
   "cell_type": "code",
   "execution_count": 66,
   "id": "411e8480-8180-488e-89d4-f7c542d5234f",
   "metadata": {},
   "outputs": [
    {
     "data": {
      "text/plain": [
       "work_year                4\n",
       "job_title              125\n",
       "job_category            10\n",
       "salary_currency         11\n",
       "salary                1507\n",
       "salary_in_usd         1786\n",
       "employee_residence      83\n",
       "experience_level         4\n",
       "employment_type          4\n",
       "work_setting             3\n",
       "company_location        70\n",
       "company_size             3\n",
       "dtype: int64"
      ]
     },
     "execution_count": 66,
     "metadata": {},
     "output_type": "execute_result"
    }
   ],
   "source": [
    "job.nunique()"
   ]
  },
  {
   "cell_type": "code",
   "execution_count": 67,
   "id": "d7a5b6b2-d1e1-4181-9535-3ff31e51a40e",
   "metadata": {},
   "outputs": [
    {
     "data": {
      "text/plain": [
       "1507"
      ]
     },
     "execution_count": 67,
     "metadata": {},
     "output_type": "execute_result"
    }
   ],
   "source": [
    "job['salary'].nunique()"
   ]
  },
  {
   "cell_type": "code",
   "execution_count": 68,
   "id": "6a652c83-e5f3-4cb6-80ec-eedbb55b6e3b",
   "metadata": {},
   "outputs": [
    {
     "data": {
      "text/plain": [
       "1786"
      ]
     },
     "execution_count": 68,
     "metadata": {},
     "output_type": "execute_result"
    }
   ],
   "source": [
    "job['salary_in_usd'].nunique()"
   ]
  },
  {
   "cell_type": "markdown",
   "id": "0225df70-06e5-47a8-9a6b-90c227585afa",
   "metadata": {},
   "source": [
    "## count()"
   ]
  },
  {
   "cell_type": "markdown",
   "id": "6cbfbba8-96cd-4ef0-8399-6f1eb376c497",
   "metadata": {},
   "source": [
    "The count() method in used to count the number of non-null values in a pandas object like Series or DataFrame. "
   ]
  },
  {
   "cell_type": "code",
   "execution_count": 69,
   "id": "a3b764ae-a060-4080-853e-86d7cf6b7098",
   "metadata": {},
   "outputs": [
    {
     "data": {
      "text/plain": [
       "work_year             9355\n",
       "job_title             9355\n",
       "job_category          9355\n",
       "salary_currency       9355\n",
       "salary                9355\n",
       "salary_in_usd         9355\n",
       "employee_residence    9355\n",
       "experience_level      9355\n",
       "employment_type       9355\n",
       "work_setting          9355\n",
       "company_location      9355\n",
       "company_size          9355\n",
       "dtype: int64"
      ]
     },
     "execution_count": 69,
     "metadata": {},
     "output_type": "execute_result"
    }
   ],
   "source": [
    "job.count()"
   ]
  },
  {
   "cell_type": "markdown",
   "id": "9e7dee4e-18e4-4fa3-9162-6f6f2b36cf06",
   "metadata": {},
   "source": [
    "## dtypes()"
   ]
  },
  {
   "cell_type": "markdown",
   "id": "c54c6bfb-2eb6-4548-92fa-96be5cafa828",
   "metadata": {},
   "source": [
    "The method dtypes() in pandas is used to get the data types of each column in a DataFrame object"
   ]
  },
  {
   "cell_type": "code",
   "execution_count": 70,
   "id": "59bd2889-2d60-4184-b5a0-3be51488d301",
   "metadata": {},
   "outputs": [
    {
     "data": {
      "text/plain": [
       "work_year              int64\n",
       "job_title             object\n",
       "job_category          object\n",
       "salary_currency       object\n",
       "salary                 int64\n",
       "salary_in_usd          int64\n",
       "employee_residence    object\n",
       "experience_level      object\n",
       "employment_type       object\n",
       "work_setting          object\n",
       "company_location      object\n",
       "company_size          object\n",
       "dtype: object"
      ]
     },
     "execution_count": 70,
     "metadata": {},
     "output_type": "execute_result"
    }
   ],
   "source": [
    "job.dtypes"
   ]
  },
  {
   "cell_type": "markdown",
   "id": "433b20ac-b823-4d4c-8702-57b2d430bb85",
   "metadata": {},
   "source": [
    "## mean(),mode(),median"
   ]
  },
  {
   "cell_type": "markdown",
   "id": "92d83ed4-66c4-4411-a564-ba912482be06",
   "metadata": {},
   "source": [
    "mean mode median of salary_in_usd."
   ]
  },
  {
   "cell_type": "code",
   "execution_count": 71,
   "id": "2c7f4e6a-0045-472e-a879-8dce9de2906d",
   "metadata": {},
   "outputs": [
    {
     "name": "stdout",
     "output_type": "stream",
     "text": [
      "150299.4955638696\n",
      "150000\n",
      "143000.0\n"
     ]
    }
   ],
   "source": [
    "mean= job['salary_in_usd'].mean()\n",
    "mode = job['salary_in_usd'].mode()[0]\n",
    "median= job['salary_in_usd'].median()\n",
    "print(mean)\n",
    "print(mode)\n",
    "print(median)\n"
   ]
  },
  {
   "cell_type": "markdown",
   "id": "e4ec12a4-60a4-4ee6-95f3-6b8dc57bd160",
   "metadata": {},
   "source": [
    "mean mode median of salary."
   ]
  },
  {
   "cell_type": "code",
   "execution_count": 72,
   "id": "7f08b6c8-064f-4125-b8f0-c6169bd14586",
   "metadata": {},
   "outputs": [
    {
     "name": "stdout",
     "output_type": "stream",
     "text": [
      "149927.98129342598\n",
      "150000\n",
      "143860.0\n"
     ]
    }
   ],
   "source": [
    "mean= job['salary'].mean()\n",
    "mode = job['salary'].mode()[0]\n",
    "median= job['salary'].median()\n",
    "print(mean)\n",
    "print(mode)\n",
    "print(median)"
   ]
  },
  {
   "cell_type": "markdown",
   "id": "03bbb1c2-3b01-40b4-9f81-1ecf867c731b",
   "metadata": {},
   "source": [
    "## Histogram"
   ]
  },
  {
   "cell_type": "code",
   "execution_count": 73,
   "id": "75375379-1718-4ff3-84aa-52a9bf1a0315",
   "metadata": {},
   "outputs": [
    {
     "data": {
      "image/png": "[encoded data removed]",
      "text/plain": [
       "<Figure size 500x300 with 1 Axes>"
      ]
     },
     "metadata": {},
     "output_type": "display_data"
    }
   ],
   "source": [
    "fig, ax = plt.subplots(figsize=(5,3))\n",
    "\n",
    "sns.histplot(data=job, x='salary_in_usd')\n",
    "ax.set_title('DS Industry Salary distribution (in USD)', fontweight='bold')\n",
    "ax.set_ylabel('Frequency')\n",
    "\n",
    "ax.axvline(x=mean, color='red', linestyle='--', label=f'Mean Salary: ${mean:.1f}')\n",
    "ax.axvline(x=mode, color='purple', linestyle='--', label=f'Mode Salary: ${mode:.1f}')\n",
    "ax.axvline(x=median, color='green', linestyle='--', label=f'Median Salary: ${median:.1f}')\n",
    "ax.legend()\n",
    "plt.show()"
   ]
  },
  {
   "cell_type": "code",
   "execution_count": null,
   "id": "ed50f54d-8376-4ae5-9748-5fe98ea13c85",
   "metadata": {},
   "outputs": [],
   "source": []
  },
  {
   "cell_type": "code",
   "execution_count": 74,
   "id": "6d19f7cc-f0d9-4963-9df8-5bc115f88a1c",
   "metadata": {},
   "outputs": [
    {
     "data": {
      "image/png": "[encoded data removed]",
      "text/plain": [
       "<Figure size 500x300 with 1 Axes>"
      ]
     },
     "metadata": {},
     "output_type": "display_data"
    }
   ],
   "source": [
    "fig, ax = plt.subplots(figsize=(5,3))\n",
    "\n",
    "sns.histplot(data=job, x='salary')\n",
    "ax.set_title('DS Industry Salary distribution (in USD)', fontweight='bold')\n",
    "ax.set_ylabel('Frequency')\n",
    "\n",
    "ax.axvline(x=mean, color='red', linestyle='--', label=f'Mean Salary: ${mean:.1f}')\n",
    "ax.axvline(x=mode, color='purple', linestyle='--', label=f'Mode Salary: ${mode:.1f}')\n",
    "ax.axvline(x=median, color='green', linestyle='--', label=f'Median Salary: ${median:.1f}')\n",
    "ax.legend()\n",
    "plt.show()"
   ]
  },
  {
   "cell_type": "markdown",
   "id": "c95c3949-1d3d-4677-bc8a-a57f04c67faf",
   "metadata": {},
   "source": [
    "## Displot"
   ]
  },
  {
   "cell_type": "code",
   "execution_count": 75,
   "id": "c59cdeac-ff60-478f-8e10-098c2da9cc09",
   "metadata": {},
   "outputs": [
    {
     "data": {
      "text/plain": [
       "Text(24.000000000000007, 0.5, 'Frequency')"
      ]
     },
     "execution_count": 75,
     "metadata": {},
     "output_type": "execute_result"
    },
    {
     "data": {
      "image/png": "[encoded data removed]",
      "text/plain": [
       "<Figure size 500x500 with 1 Axes>"
      ]
     },
     "metadata": {},
     "output_type": "display_data"
    }
   ],
   "source": [
    "sns.displot(data=job, x='salary_in_usd',kde=True)\n",
    "ax.set_title('Data Science Industry Salary distribution (in USD)', fontweight='bold')\n",
    "ax.set_ylabel('Frequency')"
   ]
  },
  {
   "cell_type": "code",
   "execution_count": 76,
   "id": "6107573f-c36f-4180-809c-1b9d314ca757",
   "metadata": {},
   "outputs": [
    {
     "data": {
      "text/plain": [
       "Text(24.000000000000007, 0.5, 'Frequency')"
      ]
     },
     "execution_count": 76,
     "metadata": {},
     "output_type": "execute_result"
    },
    {
     "data": {
      "image/png": "[encoded data removed]",
      "text/plain": [
       "<Figure size 500x500 with 1 Axes>"
      ]
     },
     "metadata": {},
     "output_type": "display_data"
    }
   ],
   "source": [
    "sns.displot(data=job, x='salary',kde=True)\n",
    "ax.set_title('Data Science Industry Salary distribution (in USD)', fontweight='bold')\n",
    "ax.set_ylabel('Frequency')"
   ]
  },
  {
   "cell_type": "markdown",
   "id": "15283322-d455-4479-9b6e-c06efd5fc5e8",
   "metadata": {},
   "source": [
    "## Boxplot"
   ]
  },
  {
   "cell_type": "code",
   "execution_count": 77,
   "id": "5490f9e9-d471-403b-92c6-8f1958a84917",
   "metadata": {},
   "outputs": [
    {
     "data": {
      "image/png": "[encoded data removed]",
      "text/plain": [
       "<Figure size 640x480 with 1 Axes>"
      ]
     },
     "metadata": {},
     "output_type": "display_data"
    }
   ],
   "source": [
    "plt.boxplot(job['salary'], patch_artist=True, boxprops=dict(color='skyblue'))\n",
    "plt.show()\n"
   ]
  },
  {
   "cell_type": "code",
   "execution_count": 78,
   "id": "94acfb49-a6bf-4834-9c2e-88634de64171",
   "metadata": {},
   "outputs": [
    {
     "data": {
      "image/png": "[encoded data removed]",
      "text/plain": [
       "<Figure size 640x480 with 1 Axes>"
      ]
     },
     "metadata": {},
     "output_type": "display_data"
    }
   ],
   "source": [
    "plt.boxplot(job['salary'], patch_artist=True, boxprops=dict(color='skyblue'))\n",
    "plt.show()"
   ]
  },
  {
   "cell_type": "markdown",
   "id": "0dd1bb66-10c5-494d-963e-c58f8103803e",
   "metadata": {},
   "source": [
    "## Average(mean) value of each category for salary_in_usd."
   ]
  },
  {
   "cell_type": "code",
   "execution_count": 79,
   "id": "03b7059e-15ce-44c3-8424-e27751ce5c61",
   "metadata": {},
   "outputs": [
    {
     "data": {
      "text/html": [
       "<div>\n",
       "<style scoped>\n",
       "    .dataframe tbody tr th:only-of-type {\n",
       "        vertical-align: middle;\n",
       "    }\n",
       "\n",
       "    .dataframe tbody tr th {\n",
       "        vertical-align: top;\n",
       "    }\n",
       "\n",
       "    .dataframe thead th {\n",
       "        text-align: right;\n",
       "    }\n",
       "</style>\n",
       "<table border=\"1\" class=\"dataframe\">\n",
       "  <thead>\n",
       "    <tr style=\"text-align: right;\">\n",
       "      <th></th>\n",
       "      <th>work_year</th>\n",
       "      <th>job_title</th>\n",
       "      <th>job_category</th>\n",
       "      <th>salary_currency</th>\n",
       "      <th>salary</th>\n",
       "      <th>salary_in_usd</th>\n",
       "      <th>employee_residence</th>\n",
       "      <th>experience_level</th>\n",
       "      <th>employment_type</th>\n",
       "      <th>work_setting</th>\n",
       "      <th>company_location</th>\n",
       "      <th>company_size</th>\n",
       "    </tr>\n",
       "  </thead>\n",
       "  <tbody>\n",
       "    <tr>\n",
       "      <th>0</th>\n",
       "      <td>2023</td>\n",
       "      <td>Data DevOps Engineer</td>\n",
       "      <td>Data Engineering</td>\n",
       "      <td>EUR</td>\n",
       "      <td>88000</td>\n",
       "      <td>95012</td>\n",
       "      <td>Germany</td>\n",
       "      <td>Mid-level</td>\n",
       "      <td>Full-time</td>\n",
       "      <td>Hybrid</td>\n",
       "      <td>Germany</td>\n",
       "      <td>L</td>\n",
       "    </tr>\n",
       "  </tbody>\n",
       "</table>\n",
       "</div>"
      ],
      "text/plain": [
       "   work_year             job_title      job_category salary_currency  salary  \\\n",
       "0       2023  Data DevOps Engineer  Data Engineering             EUR   88000   \n",
       "\n",
       "   salary_in_usd employee_residence experience_level employment_type  \\\n",
       "0          95012            Germany        Mid-level       Full-time   \n",
       "\n",
       "  work_setting company_location company_size  \n",
       "0       Hybrid          Germany            L  "
      ]
     },
     "execution_count": 79,
     "metadata": {},
     "output_type": "execute_result"
    }
   ],
   "source": [
    "job.head(1)"
   ]
  },
  {
   "cell_type": "code",
   "execution_count": 80,
   "id": "fb70a56e-c7cb-480a-a179-8441149ae610",
   "metadata": {},
   "outputs": [
    {
     "data": {
      "text/html": [
       "<div>\n",
       "<style scoped>\n",
       "    .dataframe tbody tr th:only-of-type {\n",
       "        vertical-align: middle;\n",
       "    }\n",
       "\n",
       "    .dataframe tbody tr th {\n",
       "        vertical-align: top;\n",
       "    }\n",
       "\n",
       "    .dataframe thead th {\n",
       "        text-align: right;\n",
       "    }\n",
       "</style>\n",
       "<table border=\"1\" class=\"dataframe\">\n",
       "  <thead>\n",
       "    <tr style=\"text-align: right;\">\n",
       "      <th></th>\n",
       "      <th>job_title</th>\n",
       "      <th>mean_salary(usd)</th>\n",
       "    </tr>\n",
       "  </thead>\n",
       "  <tbody>\n",
       "    <tr>\n",
       "      <th>0</th>\n",
       "      <td>Analytics Engineering Manager</td>\n",
       "      <td>399880.0</td>\n",
       "    </tr>\n",
       "    <tr>\n",
       "      <th>1</th>\n",
       "      <td>Data Science Tech Lead</td>\n",
       "      <td>375000.0</td>\n",
       "    </tr>\n",
       "    <tr>\n",
       "      <th>2</th>\n",
       "      <td>Managing Director Data Science</td>\n",
       "      <td>300000.0</td>\n",
       "    </tr>\n",
       "    <tr>\n",
       "      <th>3</th>\n",
       "      <td>Head of Machine Learning</td>\n",
       "      <td>259000.0</td>\n",
       "    </tr>\n",
       "    <tr>\n",
       "      <th>4</th>\n",
       "      <td>AWS Data Architect</td>\n",
       "      <td>258000.0</td>\n",
       "    </tr>\n",
       "  </tbody>\n",
       "</table>\n",
       "</div>"
      ],
      "text/plain": [
       "                        job_title  mean_salary(usd)\n",
       "0   Analytics Engineering Manager          399880.0\n",
       "1          Data Science Tech Lead          375000.0\n",
       "2  Managing Director Data Science          300000.0\n",
       "3        Head of Machine Learning          259000.0\n",
       "4              AWS Data Architect          258000.0"
      ]
     },
     "execution_count": 80,
     "metadata": {},
     "output_type": "execute_result"
    }
   ],
   "source": [
    "job_tit = job.groupby('job_title')['salary_in_usd'].mean().sort_values(ascending = False)\n",
    "job_tit_mean = pd.DataFrame({'job_title': job_tit.index, 'mean_salary(usd)': job_tit.values})\n",
    "job_tit_mean.head()"
   ]
  },
  {
   "cell_type": "markdown",
   "id": "4d470cd2-68b5-46c2-b13b-25c4a38d422a",
   "metadata": {},
   "source": [
    "Here,Analytics Engineering Manager dose the highest use of the salary"
   ]
  },
  {
   "cell_type": "code",
   "execution_count": 81,
   "id": "720761c5-18e6-4b2a-ae66-287293650396",
   "metadata": {},
   "outputs": [
    {
     "data": {
      "text/html": [
       "<div>\n",
       "<style scoped>\n",
       "    .dataframe tbody tr th:only-of-type {\n",
       "        vertical-align: middle;\n",
       "    }\n",
       "\n",
       "    .dataframe tbody tr th {\n",
       "        vertical-align: top;\n",
       "    }\n",
       "\n",
       "    .dataframe thead th {\n",
       "        text-align: right;\n",
       "    }\n",
       "</style>\n",
       "<table border=\"1\" class=\"dataframe\">\n",
       "  <thead>\n",
       "    <tr style=\"text-align: right;\">\n",
       "      <th></th>\n",
       "      <th>job_category</th>\n",
       "      <th>mean_salary(usd)</th>\n",
       "    </tr>\n",
       "  </thead>\n",
       "  <tbody>\n",
       "    <tr>\n",
       "      <th>0</th>\n",
       "      <td>Machine Learning and AI</td>\n",
       "      <td>178925.847339</td>\n",
       "    </tr>\n",
       "    <tr>\n",
       "      <th>1</th>\n",
       "      <td>Data Science and Research</td>\n",
       "      <td>163758.575979</td>\n",
       "    </tr>\n",
       "    <tr>\n",
       "      <th>2</th>\n",
       "      <td>Data Architecture and Modeling</td>\n",
       "      <td>156002.359073</td>\n",
       "    </tr>\n",
       "    <tr>\n",
       "      <th>3</th>\n",
       "      <td>Cloud and Database</td>\n",
       "      <td>155000.000000</td>\n",
       "    </tr>\n",
       "    <tr>\n",
       "      <th>4</th>\n",
       "      <td>Data Engineering</td>\n",
       "      <td>146197.656195</td>\n",
       "    </tr>\n",
       "    <tr>\n",
       "      <th>5</th>\n",
       "      <td>Leadership and Management</td>\n",
       "      <td>145476.019881</td>\n",
       "    </tr>\n",
       "    <tr>\n",
       "      <th>6</th>\n",
       "      <td>BI and Visualization</td>\n",
       "      <td>135092.102236</td>\n",
       "    </tr>\n",
       "    <tr>\n",
       "      <th>7</th>\n",
       "      <td>Data Analysis</td>\n",
       "      <td>108505.721345</td>\n",
       "    </tr>\n",
       "    <tr>\n",
       "      <th>8</th>\n",
       "      <td>Data Management and Strategy</td>\n",
       "      <td>103139.934426</td>\n",
       "    </tr>\n",
       "    <tr>\n",
       "      <th>9</th>\n",
       "      <td>Data Quality and Operations</td>\n",
       "      <td>100879.472727</td>\n",
       "    </tr>\n",
       "  </tbody>\n",
       "</table>\n",
       "</div>"
      ],
      "text/plain": [
       "                     job_category  mean_salary(usd)\n",
       "0         Machine Learning and AI     178925.847339\n",
       "1       Data Science and Research     163758.575979\n",
       "2  Data Architecture and Modeling     156002.359073\n",
       "3              Cloud and Database     155000.000000\n",
       "4                Data Engineering     146197.656195\n",
       "5       Leadership and Management     145476.019881\n",
       "6            BI and Visualization     135092.102236\n",
       "7                   Data Analysis     108505.721345\n",
       "8    Data Management and Strategy     103139.934426\n",
       "9     Data Quality and Operations     100879.472727"
      ]
     },
     "execution_count": 81,
     "metadata": {},
     "output_type": "execute_result"
    }
   ],
   "source": [
    "job_cat = job.groupby('job_category')['salary_in_usd'].mean().sort_values(ascending = False)\n",
    "cat_mean = pd.DataFrame({'job_category': job_cat.index, 'mean_salary(usd)': job_cat.values})\n",
    "cat_mean"
   ]
  },
  {
   "cell_type": "markdown",
   "id": "ee79ac5d-b569-47f4-a5f9-64aced6b0f57",
   "metadata": {},
   "source": [
    "We can say,from job category Machine Learning and AI job dose the average use of salary related to another job category "
   ]
  },
  {
   "cell_type": "code",
   "execution_count": 82,
   "id": "51e39538-61ce-4575-8cf7-84e991e578d9",
   "metadata": {},
   "outputs": [
    {
     "data": {
      "text/html": [
       "<div>\n",
       "<style scoped>\n",
       "    .dataframe tbody tr th:only-of-type {\n",
       "        vertical-align: middle;\n",
       "    }\n",
       "\n",
       "    .dataframe tbody tr th {\n",
       "        vertical-align: top;\n",
       "    }\n",
       "\n",
       "    .dataframe thead th {\n",
       "        text-align: right;\n",
       "    }\n",
       "</style>\n",
       "<table border=\"1\" class=\"dataframe\">\n",
       "  <thead>\n",
       "    <tr style=\"text-align: right;\">\n",
       "      <th></th>\n",
       "      <th>employee_residence</th>\n",
       "      <th>mean_salary</th>\n",
       "    </tr>\n",
       "  </thead>\n",
       "  <tbody>\n",
       "    <tr>\n",
       "      <th>0</th>\n",
       "      <td>Qatar</td>\n",
       "      <td>300000.000000</td>\n",
       "    </tr>\n",
       "    <tr>\n",
       "      <th>1</th>\n",
       "      <td>Malaysia</td>\n",
       "      <td>200000.000000</td>\n",
       "    </tr>\n",
       "    <tr>\n",
       "      <th>2</th>\n",
       "      <td>Denmark</td>\n",
       "      <td>200000.000000</td>\n",
       "    </tr>\n",
       "    <tr>\n",
       "      <th>3</th>\n",
       "      <td>Puerto Rico</td>\n",
       "      <td>166000.000000</td>\n",
       "    </tr>\n",
       "    <tr>\n",
       "      <th>4</th>\n",
       "      <td>United States</td>\n",
       "      <td>158586.128741</td>\n",
       "    </tr>\n",
       "  </tbody>\n",
       "</table>\n",
       "</div>"
      ],
      "text/plain": [
       "  employee_residence    mean_salary\n",
       "0              Qatar  300000.000000\n",
       "1           Malaysia  200000.000000\n",
       "2            Denmark  200000.000000\n",
       "3        Puerto Rico  166000.000000\n",
       "4      United States  158586.128741"
      ]
     },
     "execution_count": 82,
     "metadata": {},
     "output_type": "execute_result"
    }
   ],
   "source": [
    "emp_resid = job.groupby('employee_residence')['salary'].mean().sort_values(ascending = False)\n",
    "emp_resid_mean = pd.DataFrame({'employee_residence': emp_resid.index, 'mean_salary': emp_resid.values})\n",
    "emp_resid_mean.head(5)"
   ]
  },
  {
   "cell_type": "code",
   "execution_count": 83,
   "id": "83047955-8504-4747-9658-71ad07d4d5b9",
   "metadata": {},
   "outputs": [
    {
     "data": {
      "text/html": [
       "<div>\n",
       "<style scoped>\n",
       "    .dataframe tbody tr th:only-of-type {\n",
       "        vertical-align: middle;\n",
       "    }\n",
       "\n",
       "    .dataframe tbody tr th {\n",
       "        vertical-align: top;\n",
       "    }\n",
       "\n",
       "    .dataframe thead th {\n",
       "        text-align: right;\n",
       "    }\n",
       "</style>\n",
       "<table border=\"1\" class=\"dataframe\">\n",
       "  <thead>\n",
       "    <tr style=\"text-align: right;\">\n",
       "      <th></th>\n",
       "      <th>experience_level</th>\n",
       "      <th>mean_salary</th>\n",
       "    </tr>\n",
       "  </thead>\n",
       "  <tbody>\n",
       "    <tr>\n",
       "      <th>0</th>\n",
       "      <td>Executive</td>\n",
       "      <td>188128.943060</td>\n",
       "    </tr>\n",
       "    <tr>\n",
       "      <th>1</th>\n",
       "      <td>Senior</td>\n",
       "      <td>162260.680578</td>\n",
       "    </tr>\n",
       "    <tr>\n",
       "      <th>2</th>\n",
       "      <td>Mid-level</td>\n",
       "      <td>115987.527555</td>\n",
       "    </tr>\n",
       "    <tr>\n",
       "      <th>3</th>\n",
       "      <td>Entry-level</td>\n",
       "      <td>89363.784274</td>\n",
       "    </tr>\n",
       "  </tbody>\n",
       "</table>\n",
       "</div>"
      ],
      "text/plain": [
       "  experience_level    mean_salary\n",
       "0        Executive  188128.943060\n",
       "1           Senior  162260.680578\n",
       "2        Mid-level  115987.527555\n",
       "3      Entry-level   89363.784274"
      ]
     },
     "execution_count": 83,
     "metadata": {},
     "output_type": "execute_result"
    }
   ],
   "source": [
    "exp_level = job.groupby('experience_level')['salary'].mean().sort_values(ascending = False)\n",
    "exp_level_mean = pd.DataFrame({'experience_level': exp_level.index, 'mean_salary':exp_level.values})\n",
    "exp_level_mean"
   ]
  },
  {
   "cell_type": "raw",
   "id": "1ce31f54-237f-4524-a819-e17cf9ffbcdb",
   "metadata": {},
   "source": [
    "By this result we get to know the  typical salary range for different levels of experience within a particular field.\n",
    "here,\n",
    "\n",
    "Executive: The average salary for high-level positions is approximately 188128.94.\n",
    "Senior: For senior roles, the average salary is around 162260.68.\n",
    "Mid-level: Employees at mid-level positions earn an average salary of about 115987.52.\n",
    "Entry-level: Those starting out in the field can expect an average salary of roughly 89363.78.\n",
    "\n",
    "So, this output gives a clear picture of how salaries vary across different levels of experience, helping to understand the compensation structure within the industry or organization.\n",
    "\n",
    "\n",
    "\n",
    "\n"
   ]
  },
  {
   "cell_type": "code",
   "execution_count": 84,
   "id": "d244f615-958b-4f82-a36f-cef5c61c7a44",
   "metadata": {},
   "outputs": [
    {
     "data": {
      "text/html": [
       "<div>\n",
       "<style scoped>\n",
       "    .dataframe tbody tr th:only-of-type {\n",
       "        vertical-align: middle;\n",
       "    }\n",
       "\n",
       "    .dataframe tbody tr th {\n",
       "        vertical-align: top;\n",
       "    }\n",
       "\n",
       "    .dataframe thead th {\n",
       "        text-align: right;\n",
       "    }\n",
       "</style>\n",
       "<table border=\"1\" class=\"dataframe\">\n",
       "  <thead>\n",
       "    <tr style=\"text-align: right;\">\n",
       "      <th></th>\n",
       "      <th>employment_type</th>\n",
       "      <th>mean_salary</th>\n",
       "    </tr>\n",
       "  </thead>\n",
       "  <tbody>\n",
       "    <tr>\n",
       "      <th>0</th>\n",
       "      <td>Full-time</td>\n",
       "      <td>150222.447476</td>\n",
       "    </tr>\n",
       "    <tr>\n",
       "      <th>1</th>\n",
       "      <td>Contract</td>\n",
       "      <td>118510.526316</td>\n",
       "    </tr>\n",
       "    <tr>\n",
       "      <th>2</th>\n",
       "      <td>Part-time</td>\n",
       "      <td>77401.600000</td>\n",
       "    </tr>\n",
       "    <tr>\n",
       "      <th>3</th>\n",
       "      <td>Freelance</td>\n",
       "      <td>53868.636364</td>\n",
       "    </tr>\n",
       "  </tbody>\n",
       "</table>\n",
       "</div>"
      ],
      "text/plain": [
       "  employment_type    mean_salary\n",
       "0       Full-time  150222.447476\n",
       "1        Contract  118510.526316\n",
       "2       Part-time   77401.600000\n",
       "3       Freelance   53868.636364"
      ]
     },
     "execution_count": 84,
     "metadata": {},
     "output_type": "execute_result"
    }
   ],
   "source": [
    "emp_type = job.groupby('employment_type')['salary'].mean().sort_values(ascending = False)\n",
    "emp_type_mean = pd.DataFrame({'employment_type': emp_type.index, 'mean_salary':emp_type.values})\n",
    "emp_type_mean"
   ]
  },
  {
   "cell_type": "markdown",
   "id": "d355a311-5079-4eed-8d68-8676bc3270e8",
   "metadata": {},
   "source": [
    "Full-time: The average salary for full-time positions is approximately 150,222.\n",
    "Contract: Employees under contract earn an average salary of around 118,511.\n",
    "Part-time: Those working part-time jobs have an average salary of about 77,402.\n",
    "Freelance: Freelancers, on average, earn approximately 53,869.\n",
    "This breakdown offers insights into the average compensation levels across various types of employment arrangements."
   ]
  },
  {
   "cell_type": "code",
   "execution_count": 85,
   "id": "45337834-2fee-4cfe-af92-fb85f828760d",
   "metadata": {},
   "outputs": [
    {
     "data": {
      "text/html": [
       "<div>\n",
       "<style scoped>\n",
       "    .dataframe tbody tr th:only-of-type {\n",
       "        vertical-align: middle;\n",
       "    }\n",
       "\n",
       "    .dataframe tbody tr th {\n",
       "        vertical-align: top;\n",
       "    }\n",
       "\n",
       "    .dataframe thead th {\n",
       "        text-align: right;\n",
       "    }\n",
       "</style>\n",
       "<table border=\"1\" class=\"dataframe\">\n",
       "  <thead>\n",
       "    <tr style=\"text-align: right;\">\n",
       "      <th></th>\n",
       "      <th>work_setting</th>\n",
       "      <th>mean_salary(usd)</th>\n",
       "    </tr>\n",
       "  </thead>\n",
       "  <tbody>\n",
       "    <tr>\n",
       "      <th>0</th>\n",
       "      <td>In-person</td>\n",
       "      <td>155524.120942</td>\n",
       "    </tr>\n",
       "    <tr>\n",
       "      <th>1</th>\n",
       "      <td>Remote</td>\n",
       "      <td>144996.016599</td>\n",
       "    </tr>\n",
       "    <tr>\n",
       "      <th>2</th>\n",
       "      <td>Hybrid</td>\n",
       "      <td>88912.287958</td>\n",
       "    </tr>\n",
       "  </tbody>\n",
       "</table>\n",
       "</div>"
      ],
      "text/plain": [
       "  work_setting  mean_salary(usd)\n",
       "0    In-person     155524.120942\n",
       "1       Remote     144996.016599\n",
       "2       Hybrid      88912.287958"
      ]
     },
     "execution_count": 85,
     "metadata": {},
     "output_type": "execute_result"
    }
   ],
   "source": [
    "work_type = job.groupby('work_setting')['salary_in_usd'].mean().sort_values(ascending = False)\n",
    "work_type_mean = pd.DataFrame({'work_setting': work_type.index, 'mean_salary(usd)':work_type.values})\n",
    "work_type_mean"
   ]
  },
  {
   "cell_type": "code",
   "execution_count": 86,
   "id": "ae49ab0b-3ee4-4af9-b66b-806f6727766e",
   "metadata": {},
   "outputs": [
    {
     "data": {
      "text/html": [
       "<div>\n",
       "<style scoped>\n",
       "    .dataframe tbody tr th:only-of-type {\n",
       "        vertical-align: middle;\n",
       "    }\n",
       "\n",
       "    .dataframe tbody tr th {\n",
       "        vertical-align: top;\n",
       "    }\n",
       "\n",
       "    .dataframe thead th {\n",
       "        text-align: right;\n",
       "    }\n",
       "</style>\n",
       "<table border=\"1\" class=\"dataframe\">\n",
       "  <thead>\n",
       "    <tr style=\"text-align: right;\">\n",
       "      <th></th>\n",
       "      <th>company_location</th>\n",
       "      <th>mean_salary(usd)</th>\n",
       "    </tr>\n",
       "  </thead>\n",
       "  <tbody>\n",
       "    <tr>\n",
       "      <th>0</th>\n",
       "      <td>Qatar</td>\n",
       "      <td>300000.000000</td>\n",
       "    </tr>\n",
       "    <tr>\n",
       "      <th>1</th>\n",
       "      <td>Puerto Rico</td>\n",
       "      <td>167500.000000</td>\n",
       "    </tr>\n",
       "    <tr>\n",
       "      <th>2</th>\n",
       "      <td>Japan</td>\n",
       "      <td>165500.000000</td>\n",
       "    </tr>\n",
       "    <tr>\n",
       "      <th>3</th>\n",
       "      <td>United States</td>\n",
       "      <td>158158.728234</td>\n",
       "    </tr>\n",
       "    <tr>\n",
       "      <th>4</th>\n",
       "      <td>Canada</td>\n",
       "      <td>143918.836283</td>\n",
       "    </tr>\n",
       "  </tbody>\n",
       "</table>\n",
       "</div>"
      ],
      "text/plain": [
       "  company_location  mean_salary(usd)\n",
       "0            Qatar     300000.000000\n",
       "1      Puerto Rico     167500.000000\n",
       "2            Japan     165500.000000\n",
       "3    United States     158158.728234\n",
       "4           Canada     143918.836283"
      ]
     },
     "execution_count": 86,
     "metadata": {},
     "output_type": "execute_result"
    }
   ],
   "source": [
    "comp_loc = job.groupby('company_location')['salary_in_usd'].mean().sort_values(ascending = False)\n",
    "comp_loc_mean = pd.DataFrame({'company_location': comp_loc.index, 'mean_salary(usd)':comp_loc.values})\n",
    "comp_loc_mean.head(5)"
   ]
  },
  {
   "cell_type": "markdown",
   "id": "c376e33c-90c3-4d3b-9b55-26fe93d27334",
   "metadata": {},
   "source": [
    "## T- test"
   ]
  },
  {
   "cell_type": "markdown",
   "id": "d66c5a3b-e93a-4842-928d-660f4cde94e6",
   "metadata": {},
   "source": [
    "A t-test is a statistical hypothesis test used to determine if there is a significant difference between the means of two groups.\n",
    "The t-test evaluates whether the means of the groups are statistically different from each other."
   ]
  },
  {
   "cell_type": "code",
   "execution_count": 87,
   "id": "50a46340-f965-42b3-980d-242f9b9550fc",
   "metadata": {},
   "outputs": [],
   "source": [
    "#Takeing Sample\n",
    "sample_job=job.sample(n=30)\n"
   ]
  },
  {
   "cell_type": "code",
   "execution_count": 88,
   "id": "4b86ba75-f005-4f16-bdfa-d5aac242c5c5",
   "metadata": {},
   "outputs": [
    {
     "name": "stdout",
     "output_type": "stream",
     "text": [
      "T-statistic: 1.787304202210044\n",
      "P-value: 0.09915139293218883\n",
      "Rejecting null hypothises\n"
     ]
    }
   ],
   "source": [
    "from scipy.stats import ttest_ind\n",
    "group1 = sample_job[sample_job['job_title'] == 'Data Engineer']\n",
    "group2 = sample_job[sample_job['job_title'] == 'Data Scientist']\n",
    "\n",
    "# Perform independent two-sample t-test\n",
    "t_statistic, p_value = ttest_ind(group1['salary'], group2['salary'])\n",
    "\n",
    "# Print results\n",
    "print(\"T-statistic:\", t_statistic)\n",
    "print(\"P-value:\", p_value)\n",
    "\n",
    "\n",
    "# Check for significance\n",
    "alpha = 0.05\n",
    "if p_value < alpha:\n",
    "    print(\"accepting null hypothises\")\n",
    "else:\n",
    "    print(\"Rejecting null hypothises\")\n"
   ]
  },
  {
   "cell_type": "markdown",
   "id": "464a7e4d-7f8c-4157-a165-4fcbbd8e1b20",
   "metadata": {},
   "source": [
    "As here are p value is greter from are alpha (0.05) it reject's te null hypothises,also we can say there is no diference between salary of data engineer and data science  "
   ]
  },
  {
   "cell_type": "markdown",
   "id": "8ae6f449-c7ae-4650-9dbe-586b3493039d",
   "metadata": {},
   "source": [
    "## chi-squared test"
   ]
  },
  {
   "cell_type": "markdown",
   "id": "d7dd532e-fe4a-4df9-a414-82200411109a",
   "metadata": {},
   "source": [
    "\n",
    "To perform a chi-squared test for independence, you typically use a contingency table that summarizes the relationship between two categorical variables. Each cell in the table represents the frequency count of the combination of categories for the two variables."
   ]
  },
  {
   "cell_type": "markdown",
   "id": "01f4976e-6523-48a9-8a38-f73cc657a89a",
   "metadata": {},
   "source": [
    "\n",
    " To perform a chi-squared test for independence, you typically use a contingency table that summarizes the relationship between two categorical variables. Each cell in the table represents the frequency count of the combination of categories for the two variables."
   ]
  },
  {
   "cell_type": "code",
   "execution_count": 89,
   "id": "dc3df9cd-ba98-459e-b963-91d109e583ac",
   "metadata": {},
   "outputs": [
    {
     "name": "stdout",
     "output_type": "stream",
     "text": [
      "employment_type                 Contract  Freelance  Full-time  Part-time  \\\n",
      "job_category                                                                \n",
      "BI and Visualization                   0          0        313          0   \n",
      "Cloud and Database                     0          0          5          0   \n",
      "Data Analysis                          7          1       1444          5   \n",
      "Data Architecture and Modeling         0          0        259          0   \n",
      "Data Engineering                       1          2       2255          2   \n",
      "Data Management and Strategy           0          0         61          0   \n",
      "Data Quality and Operations            0          0         55          0   \n",
      "Data Science and Research              2          2       3005          5   \n",
      "Leadership and Management              0          1        502          0   \n",
      "Machine Learning and AI                9          5       1411          3   \n",
      "All                                   19         11       9310         15   \n",
      "\n",
      "employment_type                  All  \n",
      "job_category                          \n",
      "BI and Visualization             313  \n",
      "Cloud and Database                 5  \n",
      "Data Analysis                   1457  \n",
      "Data Architecture and Modeling   259  \n",
      "Data Engineering                2260  \n",
      "Data Management and Strategy      61  \n",
      "Data Quality and Operations       55  \n",
      "Data Science and Research       3014  \n",
      "Leadership and Management        503  \n",
      "Machine Learning and AI         1428  \n",
      "All                             9355  \n"
     ]
    }
   ],
   "source": [
    "cross_table = pd.crosstab(job.job_category, job.employment_type,margins=True)\n",
    "print(cross_table)\n"
   ]
  },
  {
   "cell_type": "code",
   "execution_count": 90,
   "id": "e0df1eb0-164f-4b5d-8cb8-94f7fe2098f8",
   "metadata": {},
   "outputs": [
    {
     "data": {
      "text/html": [
       "<div>\n",
       "<style scoped>\n",
       "    .dataframe tbody tr th:only-of-type {\n",
       "        vertical-align: middle;\n",
       "    }\n",
       "\n",
       "    .dataframe tbody tr th {\n",
       "        vertical-align: top;\n",
       "    }\n",
       "\n",
       "    .dataframe thead th {\n",
       "        text-align: right;\n",
       "    }\n",
       "</style>\n",
       "<table border=\"1\" class=\"dataframe\">\n",
       "  <thead>\n",
       "    <tr style=\"text-align: right;\">\n",
       "      <th>employment_type</th>\n",
       "      <th>Contract</th>\n",
       "      <th>Freelance</th>\n",
       "      <th>Full-time</th>\n",
       "      <th>Part-time</th>\n",
       "      <th>All</th>\n",
       "    </tr>\n",
       "    <tr>\n",
       "      <th>job_category</th>\n",
       "      <th></th>\n",
       "      <th></th>\n",
       "      <th></th>\n",
       "      <th></th>\n",
       "      <th></th>\n",
       "    </tr>\n",
       "  </thead>\n",
       "  <tbody>\n",
       "    <tr>\n",
       "      <th>BI and Visualization</th>\n",
       "      <td>0.000000</td>\n",
       "      <td>0.000000</td>\n",
       "      <td>0.033458</td>\n",
       "      <td>0.000000</td>\n",
       "      <td>0.033458</td>\n",
       "    </tr>\n",
       "    <tr>\n",
       "      <th>Cloud and Database</th>\n",
       "      <td>0.000000</td>\n",
       "      <td>0.000000</td>\n",
       "      <td>0.000534</td>\n",
       "      <td>0.000000</td>\n",
       "      <td>0.000534</td>\n",
       "    </tr>\n",
       "    <tr>\n",
       "      <th>Data Analysis</th>\n",
       "      <td>0.000748</td>\n",
       "      <td>0.000107</td>\n",
       "      <td>0.154356</td>\n",
       "      <td>0.000534</td>\n",
       "      <td>0.155746</td>\n",
       "    </tr>\n",
       "    <tr>\n",
       "      <th>Data Architecture and Modeling</th>\n",
       "      <td>0.000000</td>\n",
       "      <td>0.000000</td>\n",
       "      <td>0.027686</td>\n",
       "      <td>0.000000</td>\n",
       "      <td>0.027686</td>\n",
       "    </tr>\n",
       "    <tr>\n",
       "      <th>Data Engineering</th>\n",
       "      <td>0.000107</td>\n",
       "      <td>0.000214</td>\n",
       "      <td>0.241048</td>\n",
       "      <td>0.000214</td>\n",
       "      <td>0.241582</td>\n",
       "    </tr>\n",
       "    <tr>\n",
       "      <th>Data Management and Strategy</th>\n",
       "      <td>0.000000</td>\n",
       "      <td>0.000000</td>\n",
       "      <td>0.006521</td>\n",
       "      <td>0.000000</td>\n",
       "      <td>0.006521</td>\n",
       "    </tr>\n",
       "    <tr>\n",
       "      <th>Data Quality and Operations</th>\n",
       "      <td>0.000000</td>\n",
       "      <td>0.000000</td>\n",
       "      <td>0.005879</td>\n",
       "      <td>0.000000</td>\n",
       "      <td>0.005879</td>\n",
       "    </tr>\n",
       "    <tr>\n",
       "      <th>Data Science and Research</th>\n",
       "      <td>0.000214</td>\n",
       "      <td>0.000214</td>\n",
       "      <td>0.321219</td>\n",
       "      <td>0.000534</td>\n",
       "      <td>0.322181</td>\n",
       "    </tr>\n",
       "    <tr>\n",
       "      <th>Leadership and Management</th>\n",
       "      <td>0.000000</td>\n",
       "      <td>0.000107</td>\n",
       "      <td>0.053661</td>\n",
       "      <td>0.000000</td>\n",
       "      <td>0.053768</td>\n",
       "    </tr>\n",
       "    <tr>\n",
       "      <th>Machine Learning and AI</th>\n",
       "      <td>0.000962</td>\n",
       "      <td>0.000534</td>\n",
       "      <td>0.150828</td>\n",
       "      <td>0.000321</td>\n",
       "      <td>0.152646</td>\n",
       "    </tr>\n",
       "    <tr>\n",
       "      <th>All</th>\n",
       "      <td>0.002031</td>\n",
       "      <td>0.001176</td>\n",
       "      <td>0.995190</td>\n",
       "      <td>0.001603</td>\n",
       "      <td>1.000000</td>\n",
       "    </tr>\n",
       "  </tbody>\n",
       "</table>\n",
       "</div>"
      ],
      "text/plain": [
       "employment_type                 Contract  Freelance  Full-time  Part-time  \\\n",
       "job_category                                                                \n",
       "BI and Visualization            0.000000   0.000000   0.033458   0.000000   \n",
       "Cloud and Database              0.000000   0.000000   0.000534   0.000000   \n",
       "Data Analysis                   0.000748   0.000107   0.154356   0.000534   \n",
       "Data Architecture and Modeling  0.000000   0.000000   0.027686   0.000000   \n",
       "Data Engineering                0.000107   0.000214   0.241048   0.000214   \n",
       "Data Management and Strategy    0.000000   0.000000   0.006521   0.000000   \n",
       "Data Quality and Operations     0.000000   0.000000   0.005879   0.000000   \n",
       "Data Science and Research       0.000214   0.000214   0.321219   0.000534   \n",
       "Leadership and Management       0.000000   0.000107   0.053661   0.000000   \n",
       "Machine Learning and AI         0.000962   0.000534   0.150828   0.000321   \n",
       "All                             0.002031   0.001176   0.995190   0.001603   \n",
       "\n",
       "employment_type                      All  \n",
       "job_category                              \n",
       "BI and Visualization            0.033458  \n",
       "Cloud and Database              0.000534  \n",
       "Data Analysis                   0.155746  \n",
       "Data Architecture and Modeling  0.027686  \n",
       "Data Engineering                0.241582  \n",
       "Data Management and Strategy    0.006521  \n",
       "Data Quality and Operations     0.005879  \n",
       "Data Science and Research       0.322181  \n",
       "Leadership and Management       0.053768  \n",
       "Machine Learning and AI         0.152646  \n",
       "All                             1.000000  "
      ]
     },
     "execution_count": 90,
     "metadata": {},
     "output_type": "execute_result"
    }
   ],
   "source": [
    "count_table = cross_table/len(job)\n",
    "count_table"
   ]
  },
  {
   "cell_type": "code",
   "execution_count": 91,
   "id": "b478aa69-a445-4a9a-87f4-a4cb143d694c",
   "metadata": {},
   "outputs": [
    {
     "name": "stdout",
     "output_type": "stream",
     "text": [
      "employment_type\n",
      "Contract     0.004062\n",
      "Freelance    0.002352\n",
      "Full-time    1.990379\n",
      "Part-time    0.003207\n",
      "All          2.000000\n",
      "dtype: float64\n",
      "job_category\n",
      "BI and Visualization              0.066916\n",
      "Cloud and Database                0.001069\n",
      "Data Analysis                     0.311491\n",
      "Data Architecture and Modeling    0.055371\n",
      "Data Engineering                  0.483164\n",
      "Data Management and Strategy      0.013041\n",
      "Data Quality and Operations       0.011758\n",
      "Data Science and Research         0.644361\n",
      "Leadership and Management         0.107536\n",
      "Machine Learning and AI           0.305291\n",
      "All                               2.000000\n",
      "dtype: float64\n"
     ]
    }
   ],
   "source": [
    "emp_type_prop = count_table.sum(axis=0)\n",
    "\n",
    "job_category_prop = count_table.sum(axis=1)\n",
    "print(emp_type_prop)\n",
    "print(job_category_prop)"
   ]
  },
  {
   "cell_type": "code",
   "execution_count": 92,
   "id": "577f23ff-ed43-4283-889c-2b0646832ae3",
   "metadata": {},
   "outputs": [
    {
     "name": "stdout",
     "output_type": "stream",
     "text": [
      "Chi-square statistic: 41.20708371699464\n",
      "P-value: 0.4175908849883138\n",
      "Degrees of freedom: 40\n",
      "Expected frequencies: [[6.35702833e-01 3.68038482e-01 3.11494388e+02 5.01870657e-01\n",
      "  3.13000000e+02]\n",
      " [1.01549973e-02 5.87920898e-03 4.97594869e+00 8.01710315e-03\n",
      "  5.00000000e+00]\n",
      " [2.95916622e+00 1.71320150e+00 1.44999145e+03 2.33618386e+00\n",
      "  1.45700000e+03]\n",
      " [5.26028862e-01 3.04543025e-01 2.57754142e+02 4.15285943e-01\n",
      "  2.59000000e+02]\n",
      " [4.59005879e+00 2.65740246e+00 2.24912881e+03 3.62373063e+00\n",
      "  2.26000000e+03]\n",
      " [1.23890967e-01 7.17263495e-02 6.07065740e+01 9.78086585e-02\n",
      "  6.10000000e+01]\n",
      " [1.11704971e-01 6.46712988e-02 5.47354356e+01 8.81881347e-02\n",
      "  5.50000000e+01]\n",
      " [6.12143239e+00 3.54398717e+00 2.99950187e+03 4.83270978e+00\n",
      "  3.01400000e+03]\n",
      " [1.02159273e+00 5.91448423e-01 5.00580438e+02 8.06520577e-01\n",
      "  5.03000000e+02]\n",
      " [2.90026724e+00 1.67910208e+00 1.42113095e+03 2.28968466e+00\n",
      "  1.42800000e+03]\n",
      " [1.90000000e+01 1.10000000e+01 9.31000000e+03 1.50000000e+01\n",
      "  9.35500000e+03]]\n"
     ]
    }
   ],
   "source": [
    "from scipy.stats import chi2_contingency\n",
    "\n",
    "chi2, pval, dof, expected = chi2_contingency(cross_table)\n",
    "\n",
    "# print the expected contingency table\n",
    "\n",
    "print(\"Chi-square statistic:\", chi2)\n",
    "print(\"P-value:\", pval)\n",
    "print(\"Degrees of freedom:\", dof)\n",
    "print(\"Expected frequencies:\", expected)"
   ]
  },
  {
   "cell_type": "code",
   "execution_count": 93,
   "id": "cd19cf6c-56bd-4cde-a654-3e67bb0656ae",
   "metadata": {},
   "outputs": [
    {
     "name": "stdout",
     "output_type": "stream",
     "text": [
      "Chi-square statistic: 41.20708371699464\n",
      "P-value: 0.4175908849883138\n",
      "Degrees of freedom: 40\n"
     ]
    }
   ],
   "source": [
    "print(\"Chi-square statistic:\", chi2)\n",
    "print(\"P-value:\", pval)\n",
    "print(\"Degrees of freedom:\", dof)\n"
   ]
  },
  {
   "cell_type": "markdown",
   "id": "dea16e94-d9b7-4d0a-aeac-8959a3e33a39",
   "metadata": {},
   "source": [
    "chi-square:The chi-square statistic is a measure of the difference between the observed and expected frequencies. In this case, with a chi-square statistic of 41.21, there is some discrepancy between observed and expected frequencies, but it's not significant enough to reject the null hypothesis."
   ]
  },
  {
   "cell_type": "markdown",
   "id": "a18ac0e4-82ae-4c3a-a403-932d9f615820",
   "metadata": {},
   "source": [
    "p-value:Since the p-value (0.418) is greater than the commonly chosen significance level of 0.05, we fail to reject the null hypothesis. This suggests that there is insufficient evidence to conclude a significant association between the two categorical variables."
   ]
  },
  {
   "cell_type": "markdown",
   "id": "55e8b84a-960d-4b2d-a36d-0c04ab531069",
   "metadata": {},
   "source": [
    "DOF:The degrees of freedom (40) indicate the number of independent pieces of information in the contingency table, influencing the critical value used for determining statistical significance."
   ]
  },
  {
   "cell_type": "markdown",
   "id": "ab784001-649d-4ff1-ad41-25e9adf16540",
   "metadata": {},
   "source": [
    "## Overall, based on the provided chi-square test results, there isn't sufficient evidence to conclude a significant association between the categorical variables employment_type \n",
    "job_categor) under consideration."
   ]
  },
  {
   "cell_type": "code",
   "execution_count": null,
   "id": "d05006b9-32a2-4295-b3f1-9ca9b37baeb1",
   "metadata": {},
   "outputs": [],
   "source": []
  }
 ],
 "metadata": {
  "kernelspec": {
   "display_name": "Python 3 (ipykernel)",
   "language": "python",
   "name": "python3"
  },
  "language_info": {
   "codemirror_mode": {
    "name": "ipython",
    "version": 3
   },
   "file_extension": ".py",
   "mimetype": "text/x-python",
   "name": "python",
   "nbconvert_exporter": "python",
   "pygments_lexer": "ipython3",
   "version": "3.11.4"
  }
 },
 "nbformat": 4,
 "nbformat_minor": 5
}
